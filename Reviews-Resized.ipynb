{
 "cells": [
  {
   "cell_type": "markdown",
   "id": "287d639f-4fb5-45ce-a606-cba60106ae47",
   "metadata": {},
   "source": [
    "# MLNN Final"
   ]
  },
  {
   "cell_type": "markdown",
   "id": "9e9e5316-e618-4bf6-9721-a76f2d8262ac",
   "metadata": {},
   "source": [
    "## Balance dataset"
   ]
  },
  {
   "cell_type": "markdown",
   "id": "4a622590-f0bf-4345-a65e-61964083f468",
   "metadata": {},
   "source": [
    "#### Installation"
   ]
  },
  {
   "cell_type": "code",
   "execution_count": 1,
   "id": "8141be4e-5a89-4e0a-a144-dc3e4e1f7828",
   "metadata": {},
   "outputs": [],
   "source": [
    "#!pip install langdetect\n",
    "#!pip install tqdm"
   ]
  },
  {
   "cell_type": "markdown",
   "id": "31545c2c-4d67-4c19-ad53-73778616f2d6",
   "metadata": {},
   "source": [
    "Data source: https://www.kaggle.com/datasets/snap/amazon-fine-food-reviews\n"
   ]
  },
  {
   "cell_type": "markdown",
   "id": "9a0c3998-ede9-47dd-b7a4-17528ed41876",
   "metadata": {},
   "source": [
    "#### Imports"
   ]
  },
  {
   "cell_type": "code",
   "execution_count": 2,
   "id": "089cd193-f6af-4dff-b01e-73a6aa25ab9d",
   "metadata": {},
   "outputs": [],
   "source": [
    "import pandas as pd\n",
    "import numpy as np\n",
    "import matplotlib.pyplot as plt\n",
    "import seaborn as sns\n",
    "from langdetect import detect\n",
    "from tqdm.notebook import trange, tqdm\n",
    "\n",
    "#plt.style.use('ggplot')\n",
    "#plt.style.use('fivethirtyeight')\n",
    "plt.style.use('seaborn-v0_8')\n",
    "\n",
    "# pandas with progress bar\n",
    "tqdm.pandas()"
   ]
  },
  {
   "cell_type": "code",
   "execution_count": 3,
   "id": "04b4245f-aad1-469e-a2f9-d2feedc91fe5",
   "metadata": {},
   "outputs": [
    {
     "name": "stdout",
     "output_type": "stream",
     "text": [
      "Id                         int64\n",
      "ProductId                 object\n",
      "UserId                    object\n",
      "ProfileName               object\n",
      "HelpfulnessNumerator       int64\n",
      "HelpfulnessDenominator     int64\n",
      "Score                      int64\n",
      "Time                       int64\n",
      "Summary                   object\n",
      "Text                      object\n",
      "dtype: object\n"
     ]
    },
    {
     "data": {
      "text/plain": [
       "(568454, 10)"
      ]
     },
     "execution_count": 3,
     "metadata": {},
     "output_type": "execute_result"
    }
   ],
   "source": [
    "df = pd.read_csv('Reviews.csv')\n",
    "print(df.dtypes)\n",
    "df.shape"
   ]
  },
  {
   "cell_type": "markdown",
   "id": "4fc24a16-b16a-4e76-9298-9fc401b426ae",
   "metadata": {},
   "source": [
    "#### We need only the relevant columns for our task\n"
   ]
  },
  {
   "cell_type": "code",
   "execution_count": 4,
   "id": "0f1b320c-240a-4694-a96a-2d2143767058",
   "metadata": {},
   "outputs": [
    {
     "name": "stdout",
     "output_type": "stream",
     "text": [
      "Text     object\n",
      "Score     int64\n",
      "dtype: object\n"
     ]
    },
    {
     "data": {
      "text/plain": [
       "(568454, 2)"
      ]
     },
     "execution_count": 4,
     "metadata": {},
     "output_type": "execute_result"
    }
   ],
   "source": [
    "df = df[['Text', 'Score']]\n",
    "print(df.dtypes)\n",
    "df.shape"
   ]
  },
  {
   "cell_type": "markdown",
   "id": "9f64c006-c8ca-4cb3-9426-25bd523b2f53",
   "metadata": {},
   "source": [
    "#### Drop rows with non-English texts"
   ]
  },
  {
   "cell_type": "code",
   "execution_count": 5,
   "id": "89a26813-8b11-4a34-ad53-af42a4ddc823",
   "metadata": {},
   "outputs": [
    {
     "data": {
      "application/vnd.jupyter.widget-view+json": {
       "model_id": "1c1fdfd14ea94ca6a031cb3c79356931",
       "version_major": 2,
       "version_minor": 0
      },
      "text/plain": [
       "  0%|          | 0/568454 [00:00<?, ?it/s]"
      ]
     },
     "metadata": {},
     "output_type": "display_data"
    },
    {
     "data": {
      "text/plain": [
       "(568151, 2)"
      ]
     },
     "execution_count": 5,
     "metadata": {},
     "output_type": "execute_result"
    }
   ],
   "source": [
    "# drop non-english rows\n",
    "\n",
    "def markNonEnglish(x):\n",
    "    try:\n",
    "        if detect(x) == 'en':\n",
    "            return x\n",
    "        else:\n",
    "            return np.nan\n",
    "    except:\n",
    "        # not text but emoji etc.\n",
    "        return np.nan\n",
    "        \n",
    "df['Text'] = df['Text'].progress_apply(markNonEnglish)\n",
    "\n",
    "df.dropna(inplace=True)\n",
    "df.shape\n"
   ]
  },
  {
   "cell_type": "code",
   "execution_count": 6,
   "id": "39cc87cc-e065-4ce7-b63b-a83eae797920",
   "metadata": {},
   "outputs": [
    {
     "data": {
      "text/plain": [
       "\"\\n# drop non-english rows\\nfor i, row in tqdm(df.iterrows(), total=len(df)):\\n    try:\\n        # check if it is non english\\n        if detect(row['Text']) != 'en':\\n                # non english\\n                df.at[i, 'Text'] = np.nan\\n    except:\\n        # is not text but emoji etc.\\n        balanced.at[i, 'Text'] = np.nan\\n\\n\\ndf.dropna(inplace=True)\\ndf.shape\\n\""
      ]
     },
     "execution_count": 6,
     "metadata": {},
     "output_type": "execute_result"
    }
   ],
   "source": [
    "'''\n",
    "# drop non-english rows\n",
    "for i, row in tqdm(df.iterrows(), total=len(df)):\n",
    "    try:\n",
    "        # check if it is non english\n",
    "        if detect(row['Text']) != 'en':\n",
    "                # non english\n",
    "                df.at[i, 'Text'] = np.nan\n",
    "    except:\n",
    "        # is not text but emoji etc.\n",
    "        balanced.at[i, 'Text'] = np.nan\n",
    "\n",
    "\n",
    "df.dropna(inplace=True)\n",
    "df.shape\n",
    "'''"
   ]
  },
  {
   "cell_type": "code",
   "execution_count": 7,
   "id": "64d04b1c-e0cf-4032-9ecb-04ea3f06ede9",
   "metadata": {},
   "outputs": [
    {
     "data": {
      "text/html": [
       "<div>\n",
       "<style scoped>\n",
       "    .dataframe tbody tr th:only-of-type {\n",
       "        vertical-align: middle;\n",
       "    }\n",
       "\n",
       "    .dataframe tbody tr th {\n",
       "        vertical-align: top;\n",
       "    }\n",
       "\n",
       "    .dataframe thead th {\n",
       "        text-align: right;\n",
       "    }\n",
       "</style>\n",
       "<table border=\"1\" class=\"dataframe\">\n",
       "  <thead>\n",
       "    <tr style=\"text-align: right;\">\n",
       "      <th></th>\n",
       "      <th>Text</th>\n",
       "    </tr>\n",
       "    <tr>\n",
       "      <th>Score</th>\n",
       "      <th></th>\n",
       "    </tr>\n",
       "  </thead>\n",
       "  <tbody>\n",
       "    <tr>\n",
       "      <th>1</th>\n",
       "      <td>52245</td>\n",
       "    </tr>\n",
       "    <tr>\n",
       "      <th>2</th>\n",
       "      <td>29755</td>\n",
       "    </tr>\n",
       "    <tr>\n",
       "      <th>3</th>\n",
       "      <td>42628</td>\n",
       "    </tr>\n",
       "    <tr>\n",
       "      <th>4</th>\n",
       "      <td>80625</td>\n",
       "    </tr>\n",
       "    <tr>\n",
       "      <th>5</th>\n",
       "      <td>362898</td>\n",
       "    </tr>\n",
       "  </tbody>\n",
       "</table>\n",
       "</div>"
      ],
      "text/plain": [
       "         Text\n",
       "Score        \n",
       "1       52245\n",
       "2       29755\n",
       "3       42628\n",
       "4       80625\n",
       "5      362898"
      ]
     },
     "execution_count": 7,
     "metadata": {},
     "output_type": "execute_result"
    }
   ],
   "source": [
    "df.groupby('Score').count()"
   ]
  },
  {
   "cell_type": "markdown",
   "id": "0ff9331f-20fe-4686-84cd-eb7bf8417513",
   "metadata": {},
   "source": [
    "#### Reduce file size by reducing the 5 star ratings to the maximum of 150k"
   ]
  },
  {
   "cell_type": "code",
   "execution_count": 8,
   "id": "5eaa50bd-e9a4-4ecc-9d09-941bd1fe2526",
   "metadata": {},
   "outputs": [
    {
     "data": {
      "text/plain": [
       "(355253, 2)"
      ]
     },
     "execution_count": 8,
     "metadata": {},
     "output_type": "execute_result"
    }
   ],
   "source": [
    "# reduce the file size\n",
    "def sampling_k_elements(group, k=150000):\n",
    "    if len(group) < k:\n",
    "        return group\n",
    "    return group.sample(k)\n",
    "\n",
    "df = df.groupby('Score').apply(sampling_k_elements).reset_index(drop=True)\n",
    "df.shape\n"
   ]
  },
  {
   "cell_type": "code",
   "execution_count": 9,
   "id": "5a14e20b-992e-4236-8296-446fbaa4875d",
   "metadata": {},
   "outputs": [
    {
     "data": {
      "text/html": [
       "<div>\n",
       "<style scoped>\n",
       "    .dataframe tbody tr th:only-of-type {\n",
       "        vertical-align: middle;\n",
       "    }\n",
       "\n",
       "    .dataframe tbody tr th {\n",
       "        vertical-align: top;\n",
       "    }\n",
       "\n",
       "    .dataframe thead th {\n",
       "        text-align: right;\n",
       "    }\n",
       "</style>\n",
       "<table border=\"1\" class=\"dataframe\">\n",
       "  <thead>\n",
       "    <tr style=\"text-align: right;\">\n",
       "      <th></th>\n",
       "      <th>Text</th>\n",
       "    </tr>\n",
       "    <tr>\n",
       "      <th>Score</th>\n",
       "      <th></th>\n",
       "    </tr>\n",
       "  </thead>\n",
       "  <tbody>\n",
       "    <tr>\n",
       "      <th>1</th>\n",
       "      <td>52245</td>\n",
       "    </tr>\n",
       "    <tr>\n",
       "      <th>2</th>\n",
       "      <td>29755</td>\n",
       "    </tr>\n",
       "    <tr>\n",
       "      <th>3</th>\n",
       "      <td>42628</td>\n",
       "    </tr>\n",
       "    <tr>\n",
       "      <th>4</th>\n",
       "      <td>80625</td>\n",
       "    </tr>\n",
       "    <tr>\n",
       "      <th>5</th>\n",
       "      <td>150000</td>\n",
       "    </tr>\n",
       "  </tbody>\n",
       "</table>\n",
       "</div>"
      ],
      "text/plain": [
       "         Text\n",
       "Score        \n",
       "1       52245\n",
       "2       29755\n",
       "3       42628\n",
       "4       80625\n",
       "5      150000"
      ]
     },
     "execution_count": 9,
     "metadata": {},
     "output_type": "execute_result"
    }
   ],
   "source": [
    "df.groupby('Score').count()"
   ]
  },
  {
   "cell_type": "markdown",
   "id": "2cccd050-4708-4809-8299-0ba821a785e2",
   "metadata": {},
   "source": [
    "#### Check rows for empty strings and drop them if found"
   ]
  },
  {
   "cell_type": "code",
   "execution_count": 10,
   "id": "80c5c7c3-2731-4cd0-a3e9-ddb4357499ec",
   "metadata": {},
   "outputs": [
    {
     "data": {
      "text/plain": [
       "(355253, 2)"
      ]
     },
     "execution_count": 10,
     "metadata": {},
     "output_type": "execute_result"
    }
   ],
   "source": [
    "df.replace('', np.nan, inplace=True)\n",
    "df.dropna(inplace=True)\n",
    "df.shape"
   ]
  },
  {
   "cell_type": "markdown",
   "id": "db45c93e-bea3-41bb-bff9-1ac78da411e2",
   "metadata": {},
   "source": [
    "#### Data Distribution"
   ]
  },
  {
   "cell_type": "markdown",
   "id": "9006347f-852b-44f6-a0fe-e4df00bdff68",
   "metadata": {},
   "source": [
    "We assume that reviews with greater than 3 starts are positive reviews and those with less than 3 starts are negative reviews. We consider 3 star reviews to be neutral reviews.\n",
    "Let's label the data accordingly to help us see the data distribution."
   ]
  },
  {
   "cell_type": "code",
   "execution_count": 11,
   "id": "994d4a12-2eb5-40eb-9ed3-1cf2add744bb",
   "metadata": {},
   "outputs": [
    {
     "data": {
      "image/png": "[encoded data removed]",
      "text/plain": [
       "<Figure size 500x300 with 1 Axes>"
      ]
     },
     "metadata": {},
     "output_type": "display_data"
    }
   ],
   "source": [
    "plt.figure(figsize=(5,3))\n",
    "ax = sns.countplot(x='Score', data=df)\n",
    "ax.set(xlabel='Review Rating', ylabel='Number of Reviews', title='Rating Distribution')\n",
    "plt.show()"
   ]
  },
  {
   "cell_type": "markdown",
   "id": "b97e5f2c-fefa-4e50-930b-317f7d14f4b8",
   "metadata": {},
   "source": [
    "#### We have a biased dataset in favour of positive ratings. Let's balance the data"
   ]
  },
  {
   "cell_type": "code",
   "execution_count": 12,
   "id": "18f21b16-5fd1-45e1-ba5b-50fe27794983",
   "metadata": {},
   "outputs": [
    {
     "data": {
      "text/plain": [
       "\"\\nmaxlen = int(df.groupby('Score').count().min())\\n\\ndef sampling_k_elements(group, k=maxlen):\\n    if len(group) < k:\\n        return group\\n    return group.sample(k)\\n\\nbalanced = df.groupby('Score').apply(sampling_k_elements).reset_index(drop=True)\\nbalanced.shape\\n\""
      ]
     },
     "execution_count": 12,
     "metadata": {},
     "output_type": "execute_result"
    }
   ],
   "source": [
    "# balance data\n",
    "# credit: https://stackoverflow.com/questions/45839316/pandas-balancing-data\n",
    "\n",
    "'''\n",
    "maxlen = int(df.groupby('Score').count().min())\n",
    "\n",
    "def sampling_k_elements(group, k=maxlen):\n",
    "    if len(group) < k:\n",
    "        return group\n",
    "    return group.sample(k)\n",
    "\n",
    "balanced = df.groupby('Score').apply(sampling_k_elements).reset_index(drop=True)\n",
    "balanced.shape\n",
    "'''"
   ]
  },
  {
   "cell_type": "markdown",
   "id": "5bbb9885-9640-43d0-8330-56c22cbdd24a",
   "metadata": {},
   "source": [
    "#### Data Distribution after balancing the data set"
   ]
  },
  {
   "cell_type": "code",
   "execution_count": 13,
   "id": "98f10e45-7f6f-44e8-be7e-64ff42d3dd8d",
   "metadata": {},
   "outputs": [
    {
     "data": {
      "text/plain": [
       "\"\\nplt.figure(figsize=(5,3))\\nax = sns.countplot(x='Score', data=balanced)\\nax.set(xlabel='Review Rating', ylabel='Number of Reviews', title='Rating Distribution')\\nplt.show()\\n\""
      ]
     },
     "execution_count": 13,
     "metadata": {},
     "output_type": "execute_result"
    }
   ],
   "source": [
    "'''\n",
    "plt.figure(figsize=(5,3))\n",
    "ax = sns.countplot(x='Score', data=balanced)\n",
    "ax.set(xlabel='Review Rating', ylabel='Number of Reviews', title='Rating Distribution')\n",
    "plt.show()\n",
    "'''"
   ]
  },
  {
   "cell_type": "markdown",
   "id": "b1c3d4ea-bec3-4f34-88a9-8503eba492f1",
   "metadata": {},
   "source": [
    "#### Save the resized dataset to file"
   ]
  },
  {
   "cell_type": "code",
   "execution_count": 14,
   "id": "73b2ec52-698d-47a6-91c1-cc8460100fd0",
   "metadata": {},
   "outputs": [],
   "source": [
    "df.to_csv('Reviews-Resized.csv', index=False)"
   ]
  },
  {
   "cell_type": "code",
   "execution_count": null,
   "id": "8079a66a-8989-40d1-aed6-b8406d535386",
   "metadata": {},
   "outputs": [],
   "source": []
  }
 ],
 "metadata": {
  "kernelspec": {
   "display_name": "default:Python",
   "language": "python",
   "name": "conda-env-default-py"
  },
  "language_info": {
   "codemirror_mode": {
    "name": "ipython",
    "version": 3
   },
   "file_extension": ".py",
   "mimetype": "text/x-python",
   "name": "python",
   "nbconvert_exporter": "python",
   "pygments_lexer": "ipython3",
   "version": "3.9.13"
  }
 },
 "nbformat": 4,
 "nbformat_minor": 5
}
