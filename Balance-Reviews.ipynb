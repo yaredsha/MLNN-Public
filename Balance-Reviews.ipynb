{
 "cells": [
  {
   "cell_type": "markdown",
   "id": "287d639f-4fb5-45ce-a606-cba60106ae47",
   "metadata": {},
   "source": [
    "# MLNN Final"
   ]
  },
  {
   "cell_type": "markdown",
   "id": "9e9e5316-e618-4bf6-9721-a76f2d8262ac",
   "metadata": {},
   "source": [
    "## Balance dataset"
   ]
  },
  {
   "cell_type": "markdown",
   "id": "4a622590-f0bf-4345-a65e-61964083f468",
   "metadata": {},
   "source": [
    "#### Installation"
   ]
  },
  {
   "cell_type": "code",
   "execution_count": 4,
   "id": "8141be4e-5a89-4e0a-a144-dc3e4e1f7828",
   "metadata": {},
   "outputs": [],
   "source": [
    "#!pip install langdetect\n",
    "#!pip install tqdm"
   ]
  },
  {
   "cell_type": "markdown",
   "id": "31545c2c-4d67-4c19-ad53-73778616f2d6",
   "metadata": {},
   "source": [
    "Data source: https://www.kaggle.com/datasets/snap/amazon-fine-food-reviews\n"
   ]
  },
  {
   "cell_type": "markdown",
   "id": "9a0c3998-ede9-47dd-b7a4-17528ed41876",
   "metadata": {},
   "source": [
    "#### Imports"
   ]
  },
  {
   "cell_type": "code",
   "execution_count": 5,
   "id": "089cd193-f6af-4dff-b01e-73a6aa25ab9d",
   "metadata": {},
   "outputs": [],
   "source": [
    "import pandas as pd\n",
    "import numpy as np\n",
    "import matplotlib.pyplot as plt\n",
    "import seaborn as sns\n",
    "from langdetect import detect\n",
    "from tqdm.notebook import trange, tqdm\n",
    "\n",
    "#plt.style.use('ggplot')\n",
    "#plt.style.use('fivethirtyeight')\n",
    "plt.style.use('seaborn-v0_8')\n",
    "\n",
    "# pandas with progress bar\n",
    "tqdm.pandas()"
   ]
  },
  {
   "cell_type": "code",
   "execution_count": 6,
   "id": "04b4245f-aad1-469e-a2f9-d2feedc91fe5",
   "metadata": {},
   "outputs": [
    {
     "name": "stdout",
     "output_type": "stream",
     "text": [
      "Id                         int64\n",
      "ProductId                 object\n",
      "UserId                    object\n",
      "ProfileName               object\n",
      "HelpfulnessNumerator       int64\n",
      "HelpfulnessDenominator     int64\n",
      "Score                      int64\n",
      "Time                       int64\n",
      "Summary                   object\n",
      "Text                      object\n",
      "dtype: object\n"
     ]
    },
    {
     "data": {
      "text/plain": [
       "(568454, 10)"
      ]
     },
     "execution_count": 6,
     "metadata": {},
     "output_type": "execute_result"
    }
   ],
   "source": [
    "df = pd.read_csv('Reviews.csv')\n",
    "print(df.dtypes)\n",
    "df.shape"
   ]
  },
  {
   "cell_type": "markdown",
   "id": "4fc24a16-b16a-4e76-9298-9fc401b426ae",
   "metadata": {},
   "source": [
    "#### We need only the relevant columns for our task\n"
   ]
  },
  {
   "cell_type": "code",
   "execution_count": 7,
   "id": "0f1b320c-240a-4694-a96a-2d2143767058",
   "metadata": {},
   "outputs": [
    {
     "name": "stdout",
     "output_type": "stream",
     "text": [
      "Text     object\n",
      "Score     int64\n",
      "dtype: object\n"
     ]
    },
    {
     "data": {
      "text/plain": [
       "(568454, 2)"
      ]
     },
     "execution_count": 7,
     "metadata": {},
     "output_type": "execute_result"
    }
   ],
   "source": [
    "df = df[['Text', 'Score']]\n",
    "print(df.dtypes)\n",
    "df.shape"
   ]
  },
  {
   "cell_type": "markdown",
   "id": "2cccd050-4708-4809-8299-0ba821a785e2",
   "metadata": {},
   "source": [
    "#### Check rows for empty strings and drop them if found"
   ]
  },
  {
   "cell_type": "code",
   "execution_count": 8,
   "id": "80c5c7c3-2731-4cd0-a3e9-ddb4357499ec",
   "metadata": {},
   "outputs": [
    {
     "data": {
      "text/plain": [
       "(568454, 2)"
      ]
     },
     "execution_count": 8,
     "metadata": {},
     "output_type": "execute_result"
    }
   ],
   "source": [
    "df.replace('', np.nan, inplace=True)\n",
    "df.dropna(inplace=True)\n",
    "df.shape"
   ]
  },
  {
   "cell_type": "markdown",
   "id": "db45c93e-bea3-41bb-bff9-1ac78da411e2",
   "metadata": {},
   "source": [
    "#### Data Distribution"
   ]
  },
  {
   "cell_type": "code",
   "execution_count": 9,
   "id": "a9b0aff2-4915-480e-96ad-30cb66a347c2",
   "metadata": {},
   "outputs": [
    {
     "data": {
      "image/png": "[encoded data removed]",
      "text/plain": [
       "<Figure size 500x300 with 1 Axes>"
      ]
     },
     "metadata": {},
     "output_type": "display_data"
    }
   ],
   "source": [
    "df[['Score','Text']].groupby('Score').count()\\\n",
    ".plot(kind='bar', xlabel='Review Rating', ylabel='Number of Reviews',\\\n",
    "      title='Rating Distribution', legend=False, figsize=(5,3), rot=0)\n",
    "plt.show()"
   ]
  },
  {
   "cell_type": "markdown",
   "id": "b97e5f2c-fefa-4e50-930b-317f7d14f4b8",
   "metadata": {},
   "source": [
    "#### We have a biased dataset in favour of positive ratings. Let's balance the data"
   ]
  },
  {
   "cell_type": "code",
   "execution_count": 10,
   "id": "18f21b16-5fd1-45e1-ba5b-50fe27794983",
   "metadata": {},
   "outputs": [
    {
     "data": {
      "text/plain": [
       "(148845, 2)"
      ]
     },
     "execution_count": 10,
     "metadata": {},
     "output_type": "execute_result"
    }
   ],
   "source": [
    "# balance data\n",
    "# credit: https://stackoverflow.com/questions/45839316/pandas-balancing-data\n",
    "\n",
    "maxlen = int(df.groupby('Score').count().min())\n",
    "\n",
    "def sampling_k_elements(group, k=maxlen):\n",
    "    if len(group) < k:\n",
    "        return group\n",
    "    return group.sample(k)\n",
    "\n",
    "balanced = df.groupby('Score').apply(sampling_k_elements).reset_index(drop=True)\n",
    "balanced.shape"
   ]
  },
  {
   "cell_type": "code",
   "execution_count": 11,
   "id": "3d19a92e-99e3-4498-83a4-1c6ac1bcfadd",
   "metadata": {},
   "outputs": [],
   "source": [
    "#### Data Distribution after balancing the data set"
   ]
  },
  {
   "cell_type": "code",
   "execution_count": 12,
   "id": "98f10e45-7f6f-44e8-be7e-64ff42d3dd8d",
   "metadata": {},
   "outputs": [
    {
     "data": {
      "image/png": "[encoded data removed]",
      "text/plain": [
       "<Figure size 500x300 with 1 Axes>"
      ]
     },
     "metadata": {},
     "output_type": "display_data"
    }
   ],
   "source": [
    "balanced[['Score','Text']].groupby('Score').count()\\\n",
    ".plot(kind='bar', xlabel='Review Rating', ylabel='Number of Reviews',\\\n",
    "      title='Rating Distribution', legend=False, figsize=(5,3), rot=0)\n",
    "plt.show()"
   ]
  },
  {
   "cell_type": "markdown",
   "id": "6ca5bcc5-12b6-44b0-bc92-f5e9fe10788c",
   "metadata": {},
   "source": [
    "#### Drop rows with non-English texts"
   ]
  },
  {
   "cell_type": "code",
   "execution_count": 13,
   "id": "1ad1e5c5-0a39-4f4e-a1ae-baf2cf272129",
   "metadata": {},
   "outputs": [
    {
     "data": {
      "application/vnd.jupyter.widget-view+json": {
       "model_id": "a32350cc93374272a7d7720587cb7adf",
       "version_major": 2,
       "version_minor": 0
      },
      "text/plain": [
       "  0%|          | 0/148845 [00:00<?, ?it/s]"
      ]
     },
     "metadata": {},
     "output_type": "display_data"
    }
   ],
   "source": [
    "# drop non-english rows and save to file\n",
    "\n",
    "for i, row in tqdm(balanced.iterrows(), total=balanced.shape[0]):\n",
    "    try:\n",
    "        # check if it is non english\n",
    "        if detect(row['Text']) != 'en':\n",
    "                # non english\n",
    "                balanced.at[i, 'Text'] = np.nan\n",
    "    except:\n",
    "        # is not text but emoji etc.\n",
    "        balanced.at[i, 'Text'] = np.nan\n",
    "\n",
    "\n",
    "balanced.dropna(inplace=True)"
   ]
  },
  {
   "cell_type": "markdown",
   "id": "b1c3d4ea-bec3-4f34-88a9-8503eba492f1",
   "metadata": {},
   "source": [
    "#### Save the balanced dataset to file"
   ]
  },
  {
   "cell_type": "code",
   "execution_count": 15,
   "id": "73b2ec52-698d-47a6-91c1-cc8460100fd0",
   "metadata": {},
   "outputs": [
    {
     "name": "stdout",
     "output_type": "stream",
     "text": [
      "(148778, 2)\n"
     ]
    }
   ],
   "source": [
    "print(balanced.shape)\n",
    "balanced.to_csv('Reviews-Balanced.csv', index=False)"
   ]
  },
  {
   "cell_type": "code",
   "execution_count": null,
   "id": "8079a66a-8989-40d1-aed6-b8406d535386",
   "metadata": {},
   "outputs": [],
   "source": []
  }
 ],
 "metadata": {
  "kernelspec": {
   "display_name": "default:Python",
   "language": "python",
   "name": "conda-env-default-py"
  },
  "language_info": {
   "codemirror_mode": {
    "name": "ipython",
    "version": 3
   },
   "file_extension": ".py",
   "mimetype": "text/x-python",
   "name": "python",
   "nbconvert_exporter": "python",
   "pygments_lexer": "ipython3",
   "version": "3.9.13"
  }
 },
 "nbformat": 4,
 "nbformat_minor": 5
}
